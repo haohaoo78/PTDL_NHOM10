{
 "cells": [
  {
   "cell_type": "code",
   "execution_count": 1,
   "metadata": {},
   "outputs": [
    {
     "name": "stderr",
     "output_type": "stream",
     "text": [
      "c:\\Users\\Admin\\AppData\\Local\\Programs\\Python\\Python310\\lib\\site-packages\\pyspark\\sql\\context.py:113: FutureWarning: Deprecated in 3.0.0. Use SparkSession.builder.getOrCreate() instead.\n",
      "  warnings.warn(\n"
     ]
    }
   ],
   "source": [
    "import pyspark\n",
    "from pyspark import SparkContext\n",
    "from pyspark.sql import SparkSession\n",
    "from pyspark.sql import functions as F\n",
    "from pyspark.sql import SQLContext\n",
    "from pyspark import SparkConf\n",
    "from pyspark.sql.window import Window\n",
    "import pyodbc\n",
    "\n",
    "conf = SparkConf() \\\n",
    "    .set(\"spark.jars.packages\", \"org.apache.spark:spark-sql-kafka-0-10_2.12:3.1.2,org.mongodb.spark:mongo-spark-connector_2.12:3.0.1\") \\\n",
    "    .setMaster(\"local[*]\") \\\n",
    "    .setAppName(\"ReadMongoDB\")\n",
    "\n",
    "\n",
    "sc = SparkContext(conf=conf)\n",
    "sqlC = SQLContext(sc)\n",
    "\n",
    "mongo_ip = \"mongodb://localhost:27017/Nettruyendb_tho.\"\n",
    "truyen = sqlC.read.format(\"com.mongodb.spark.sql.DefaultSource\").option(\"uri\", mongo_ip + \"Truyens_tho\").load()\n"
   ]
  },
  {
   "cell_type": "code",
   "execution_count": 2,
   "metadata": {},
   "outputs": [
    {
     "name": "stdout",
     "output_type": "stream",
     "text": [
      "+--------+--------------------+----------+-------------+---------+--------------+---------+-------------+--------------------+--------------------+--------------------+--------------+\n",
      "|Xep_hang|                 _id|  cap_nhat|luot_danh_gia| luot_xem|nguoi_theo_doi|so_chuong|      tac_gia|            the_loai|             tieu_de|             tom_tat|    trang_thai|\n",
      "+--------+--------------------+----------+-------------+---------+--------------+---------+-------------+--------------------+--------------------+--------------------+--------------+\n",
      "|     4.5|{6706e41f98066a57...|2024-09-24|          543|   15.801|         4.506|       54|Đang cập nhật|Action, Manhwa, T...|Mạt Thế Zombie 82-08|Giới thiệu về Web...|Đang tiến hành|\n",
      "|     4.5|{6706e42498066a57...|2024-10-08|           25|         |           215|       13|Đang cập nhật|Manhua, Ngôn Tình...| Ánh Trăng Của Cô Ấy|Giới thiệu về Web...|Đang tiến hành|\n",
      "|     4.5|{6706e42698066a57...|2024-10-08|      2007300|4.277.557|       929.041|      245|Đang cập nhật|Action, Manhwa, M...|    Bố Tôi Là Đặc Vụ|Giới thiệu về Web...|Đang tiến hành|\n",
      "|     4.5|{6706e42998066a57...|2024-10-07|        13297|   31.388|        11.754|       69|Đang cập nhật|Action, Manhua, T...|Nông Trường Siêu ...|Giới thiệu về Web...|Đang tiến hành|\n",
      "|     4.5|{6706e42f98066a57...|2024-10-07|           25|         |            15|       16|      Unknown|Action, Comedy, R...|Tuyển tập các sỉ ...|Giới thiệu về Web...|              |\n",
      "+--------+--------------------+----------+-------------+---------+--------------+---------+-------------+--------------------+--------------------+--------------------+--------------+\n",
      "only showing top 5 rows\n",
      "\n"
     ]
    }
   ],
   "source": [
    "truyen.show(5)"
   ]
  },
  {
   "cell_type": "code",
   "execution_count": 3,
   "metadata": {},
   "outputs": [
    {
     "name": "stdout",
     "output_type": "stream",
     "text": [
      "+--------+--------------------+----------+-------------+---------+--------------+---------+-------------+--------------------+--------------------+--------------------+--------------+\n",
      "|Xep_hang|                 _id|  cap_nhat|luot_danh_gia| luot_xem|nguoi_theo_doi|so_chuong|      tac_gia|            the_loai|             tieu_de|             tom_tat|    trang_thai|\n",
      "+--------+--------------------+----------+-------------+---------+--------------+---------+-------------+--------------------+--------------------+--------------------+--------------+\n",
      "|     4.5|{6706e41f98066a57...|2024-09-24|          543|   15.801|         4.506|       54|Đang cập nhật|Action, Manhwa, T...|Mạt Thế Zombie 82-08|Giới thiệu về Web...|Đang tiến hành|\n",
      "|     4.5|{6706e42498066a57...|2024-10-08|           25|         |           215|       13|Đang cập nhật|Manhua, Ngôn Tình...| Ánh Trăng Của Cô Ấy|Giới thiệu về Web...|Đang tiến hành|\n",
      "|     4.5|{6706e42698066a57...|2024-10-08|      2007300|4.277.557|       929.041|      245|Đang cập nhật|Action, Manhwa, M...|    Bố Tôi Là Đặc Vụ|Giới thiệu về Web...|Đang tiến hành|\n",
      "|     4.5|{6706e42998066a57...|2024-10-07|        13297|   31.388|        11.754|       69|Đang cập nhật|Action, Manhua, T...|Nông Trường Siêu ...|Giới thiệu về Web...|Đang tiến hành|\n",
      "|     4.5|{6706e42f98066a57...|2024-10-07|           25|         |            15|       16|      Unknown|Action, Comedy, R...|Tuyển tập các sỉ ...|Giới thiệu về Web...|              |\n",
      "+--------+--------------------+----------+-------------+---------+--------------+---------+-------------+--------------------+--------------------+--------------------+--------------+\n",
      "only showing top 5 rows\n",
      "\n",
      "+--------+--------------------+----------+-------------+---------+--------------+---------+-------------+--------------------+--------------------+--------------------+--------------+\n",
      "|Xep_hang|                 _id|  cap_nhat|luot_danh_gia| luot_xem|nguoi_theo_doi|so_chuong|      tac_gia|            the_loai|             tieu_de|             tom_tat|    trang_thai|\n",
      "+--------+--------------------+----------+-------------+---------+--------------+---------+-------------+--------------------+--------------------+--------------------+--------------+\n",
      "|     4.5|{6706e41f98066a57...|2024-09-24|          543|   15.801|         4.506|       54|Đang cập nhật|Action, Manhwa, T...|Mạt Thế Zombie 82-08|Giới thiệu về Web...|Đang tiến hành|\n",
      "|     4.5|{6706e42498066a57...|2024-10-08|           25|         |           215|       13|Đang cập nhật|Manhua, Ngôn Tình...| Ánh Trăng Của Cô Ấy|Giới thiệu về Web...|Đang tiến hành|\n",
      "|     4.5|{6706e42698066a57...|2024-10-08|      2007300|4.277.557|       929.041|      245|Đang cập nhật|Action, Manhwa, M...|    Bố Tôi Là Đặc Vụ|Giới thiệu về Web...|Đang tiến hành|\n",
      "|     4.5|{6706e42998066a57...|2024-10-07|        13297|   31.388|        11.754|       69|Đang cập nhật|Action, Manhua, T...|Nông Trường Siêu ...|Giới thiệu về Web...|Đang tiến hành|\n",
      "|     4.5|{6706e42f98066a57...|2024-10-07|           25|         |            15|       16|      Unknown|Action, Comedy, R...|Tuyển tập các sỉ ...|Giới thiệu về Web...|              |\n",
      "+--------+--------------------+----------+-------------+---------+--------------+---------+-------------+--------------------+--------------------+--------------------+--------------+\n",
      "only showing top 5 rows\n",
      "\n",
      "root\n",
      " |-- Xep_hang: string (nullable = false)\n",
      " |-- _id: struct (nullable = true)\n",
      " |    |-- oid: string (nullable = true)\n",
      " |-- cap_nhat: string (nullable = false)\n",
      " |-- luot_danh_gia: string (nullable = false)\n",
      " |-- luot_xem: string (nullable = false)\n",
      " |-- nguoi_theo_doi: string (nullable = false)\n",
      " |-- so_chuong: integer (nullable = false)\n",
      " |-- tac_gia: string (nullable = true)\n",
      " |-- the_loai: string (nullable = true)\n",
      " |-- tieu_de: string (nullable = true)\n",
      " |-- tom_tat: string (nullable = true)\n",
      " |-- trang_thai: string (nullable = false)\n",
      "\n"
     ]
    }
   ],
   "source": [
    "kafka_bootstrap_servers = \"localhost:9092\"\n",
    "topic_truyen = \"Datatopic\" \n",
    "def write_to_kafka(df, topic):\n",
    "    df.show(5)\n",
    "    columns_to_fill = ['Xep_hang', 'cap_nhat', 'luot_danh_gia', 'luot_xem', 'nguoi_theo_doi', 'so_chuong', 'trang_thai']\n",
    "    fill_values = {\n",
    "        'Xep_hang': 'N/A',\n",
    "        'cap_nhat': 'Chưa cập nhật',\n",
    "        'luot_danh_gia': 0,\n",
    "        'luot_xem': 0,\n",
    "        'nguoi_theo_doi': 0,\n",
    "        'so_chuong': 0,\n",
    "        'trang_thai': 'Chưa cập nhật'\n",
    "    }\n",
    "    df = df.fillna({col: fill_values.get(col, None) for col in columns_to_fill if col in df.columns})\n",
    "    df.show(5)\n",
    "    df.printSchema()\n",
    "    if \"_id\" not in df.columns:\n",
    "        df = df.withColumn(\"_id\", F.monotonically_increasing_id())\n",
    "    df = df.withColumn(\"_id\", F.col(\"_id\").cast(\"string\"))\n",
    "    df = df.selectExpr(\"CAST(_id AS STRING) AS key\", \"to_json(struct(*)) AS value\")\n",
    "\n",
    "    df.write \\\n",
    "        .format(\"kafka\") \\\n",
    "        .option(\"kafka.bootstrap.servers\", kafka_bootstrap_servers) \\\n",
    "        .option(\"topic\", topic) \\\n",
    "        .option(\"checkpointLocation\", \"/tmp/kafka_checkpoint\") \\\n",
    "        .save()\n",
    "\n",
    "write_to_kafka(truyen, topic_truyen)\n"
   ]
  }
 ],
 "metadata": {
  "kernelspec": {
   "display_name": "Python 3",
   "language": "python",
   "name": "python3"
  },
  "language_info": {
   "codemirror_mode": {
    "name": "ipython",
    "version": 3
   },
   "file_extension": ".py",
   "mimetype": "text/x-python",
   "name": "python",
   "nbconvert_exporter": "python",
   "pygments_lexer": "ipython3",
   "version": "3.10.11"
  }
 },
 "nbformat": 4,
 "nbformat_minor": 2
}
